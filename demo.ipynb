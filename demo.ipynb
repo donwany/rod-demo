{
 "cells": [
  {
   "cell_type": "code",
   "execution_count": 1,
   "id": "12a1ed27-137d-4cca-bc80-235583c34693",
   "metadata": {
    "tags": []
   },
   "outputs": [
    {
     "name": "stdout",
     "output_type": "stream",
     "text": [
      "/Users/tsiameh/Desktop/RodDemo\n"
     ]
    }
   ],
   "source": [
    "!pwd"
   ]
  },
  {
   "cell_type": "code",
   "execution_count": 2,
   "id": "0682b167-0c1f-4ca6-8bb0-29131d375bf5",
   "metadata": {
    "tags": []
   },
   "outputs": [
    {
     "name": "stdout",
     "output_type": "stream",
     "text": [
      "\u001b[34m__pycache__\u001b[m\u001b[m app.py      data.csv    demo.ipynb  run.sh      utils.py\n"
     ]
    }
   ],
   "source": [
    "!ls"
   ]
  },
  {
   "cell_type": "code",
   "execution_count": 3,
   "id": "5168a2a7-1607-4748-a378-ce808455a304",
   "metadata": {
    "tags": []
   },
   "outputs": [
    {
     "name": "stdout",
     "output_type": "stream",
     "text": [
      "{'epochs': 500, 'learning_rate': 0.05, 'model': 'RandomForest', 'square': 40000}\n"
     ]
    }
   ],
   "source": [
    "!bash run.sh"
   ]
  },
  {
   "cell_type": "code",
   "execution_count": 6,
   "id": "e3397322-1b15-47d6-ab17-d15e78c4f826",
   "metadata": {
    "tags": []
   },
   "outputs": [
    {
     "name": "stdout",
     "output_type": "stream",
     "text": [
      "/Users/tsiameh/Desktop/RodDemo/sh\n"
     ]
    }
   ],
   "source": [
    "%cd sh"
   ]
  },
  {
   "cell_type": "code",
   "execution_count": 7,
   "id": "3637a501-4b2d-42e2-8bbf-264341da9d4d",
   "metadata": {
    "tags": []
   },
   "outputs": [
    {
     "name": "stdout",
     "output_type": "stream",
     "text": [
      "/Users/tsiameh/Desktop/RodDemo/sh\n"
     ]
    }
   ],
   "source": [
    "!pwd"
   ]
  },
  {
   "cell_type": "code",
   "execution_count": 10,
   "id": "b3488766-518d-4ca3-b5e6-8afdbc32cf01",
   "metadata": {
    "tags": []
   },
   "outputs": [
    {
     "name": "stdout",
     "output_type": "stream",
     "text": [
      "{'epochs': 500, 'learning_rate': 0.05, 'model': 'RandomForest', 'square': 40000}\n"
     ]
    }
   ],
   "source": [
    "!bash ../run.sh"
   ]
  },
  {
   "cell_type": "code",
   "execution_count": 11,
   "id": "0a1a1b15-e629-473b-b25c-414a20ebef9a",
   "metadata": {
    "tags": []
   },
   "outputs": [
    {
     "name": "stdout",
     "output_type": "stream",
     "text": [
      "/Users/tsiameh/Desktop/RodDemo\n"
     ]
    }
   ],
   "source": [
    "%cd .."
   ]
  },
  {
   "cell_type": "code",
   "execution_count": 12,
   "id": "11df949a-242f-47a2-8c1f-0797d3d06c07",
   "metadata": {
    "tags": []
   },
   "outputs": [
    {
     "name": "stdout",
     "output_type": "stream",
     "text": [
      "{'epochs': 500, 'learning_rate': 0.05, 'model': 'RandomForest', 'square': 40000}\n"
     ]
    }
   ],
   "source": [
    "!python app.py \\\n",
    "--epochs=500 \\\n",
    "--lr=0.05 \\\n",
    "--model=\"RandomForest\" \\\n",
    "--square=200"
   ]
  },
  {
   "cell_type": "code",
   "execution_count": 13,
   "id": "38b862f3-14bd-4f70-ab66-f90bbb35a331",
   "metadata": {
    "tags": []
   },
   "outputs": [
    {
     "name": "stdout",
     "output_type": "stream",
     "text": [
      "{'epochs': 500, 'learning_rate': 0.05, 'model': 'RandomForest', 'square': 250000}\n"
     ]
    }
   ],
   "source": [
    "!python app.py --epochs=500 --lr=0.05 --model=\"RandomForest\" --square=500"
   ]
  },
  {
   "cell_type": "code",
   "execution_count": 14,
   "id": "ff6d5fc4-e0ed-450a-9b39-3fd3e8469e1a",
   "metadata": {
    "tags": []
   },
   "outputs": [
    {
     "ename": "SyntaxError",
     "evalue": "invalid syntax (940103327.py, line 1)",
     "output_type": "error",
     "traceback": [
      "\u001b[0;36m  Cell \u001b[0;32mIn[14], line 1\u001b[0;36m\u001b[0m\n\u001b[0;31m    python app.py \\\u001b[0m\n\u001b[0m           ^\u001b[0m\n\u001b[0;31mSyntaxError\u001b[0m\u001b[0;31m:\u001b[0m invalid syntax\n"
     ]
    }
   ],
   "source": [
    "python app.py \\\n",
    "--epochs=500 \\\n",
    "--lr=0.05 \\\n",
    "--model=\"RandomForest\" \\\n",
    "--square=200"
   ]
  },
  {
   "cell_type": "code",
   "execution_count": null,
   "id": "01ae5979-5052-46f5-afd5-e2eee5ef4efb",
   "metadata": {},
   "outputs": [],
   "source": []
  }
 ],
 "metadata": {
  "kernelspec": {
   "display_name": "Python 3 (ipykernel)",
   "language": "python",
   "name": "python3"
  },
  "language_info": {
   "codemirror_mode": {
    "name": "ipython",
    "version": 3
   },
   "file_extension": ".py",
   "mimetype": "text/x-python",
   "name": "python",
   "nbconvert_exporter": "python",
   "pygments_lexer": "ipython3",
   "version": "3.8.16"
  }
 },
 "nbformat": 4,
 "nbformat_minor": 5
}
